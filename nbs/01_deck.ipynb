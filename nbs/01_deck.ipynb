{
 "cells": [
  {
   "cell_type": "markdown",
   "id": "219580c4-8223-4697-b678-72cb5d81c3c8",
   "metadata": {},
   "source": [
    "# deck\n",
    "\n",
    "> A deck of playing cards"
   ]
  },
  {
   "cell_type": "code",
   "execution_count": null,
   "id": "c12db6cc-42f0-451a-a828-1f060984a1e3",
   "metadata": {},
   "outputs": [],
   "source": [
    "#| default_exp deck"
   ]
  },
  {
   "cell_type": "code",
   "execution_count": null,
   "id": "35b8d2a0-6eb3-437d-bd08-eb917ae55b4c",
   "metadata": {},
   "outputs": [],
   "source": [
    "#| hide\n",
    "from nbdev.showdoc import *"
   ]
  },
  {
   "cell_type": "code",
   "execution_count": null,
   "id": "c087b422-0797-4c1a-871a-3b3091a372a4",
   "metadata": {},
   "outputs": [],
   "source": [
    "#| export\n",
    "from nbdev_test.card import *\n",
    "from fastcore.test import *\n",
    "from fastcore.utils import *"
   ]
  },
  {
   "cell_type": "code",
   "execution_count": null,
   "id": "061d25bd-72b7-44c9-8fd4-6a4d60c1d5c6",
   "metadata": {},
   "outputs": [],
   "source": [
    "#| export\n",
    "class Deck:\n",
    "    'A deck of 32 `Card`s, not including jokers and the number from 2 to 9'\n",
    "    def __init__(self): self.cards = [Card(s,r) for s in range(len(suits)) for r in range(1,len(ranks))]\n",
    "    def __len__(self): return len(self.cards)\n",
    "    def __str__(self): return '; '.join(map(str,self.cards))\n",
    "    def __contains__(self, card): return card in self.cards\n",
    "    __repr__ = __str__"
   ]
  },
  {
   "cell_type": "markdown",
   "id": "3cefb90d-59e7-423a-b3ec-19235284da1b",
   "metadata": {},
   "source": [
    "When we initially create a `Deck` of `Card`s, it contains all 32 cards."
   ]
  },
  {
   "cell_type": "code",
   "execution_count": null,
   "id": "3091b494-562d-4ec6-bf7b-faf6dca31cbb",
   "metadata": {},
   "outputs": [
    {
     "data": {
      "text/plain": [
       "J♤; Q♤; K♤; A♤; 7♤; 8♤; 9♤; 10♤; J♡; Q♡; K♡; A♡; 7♡; 8♡; 9♡; 10♡; J♢; Q♢; K♢; A♢; 7♢; 8♢; 9♢; 10♢; J♧; Q♧; K♧; A♧; 7♧; 8♧; 9♧; 10♧"
      ]
     },
     "execution_count": null,
     "metadata": {},
     "output_type": "execute_result"
    }
   ],
   "source": [
    "deck = Deck()\n",
    "deck"
   ]
  },
  {
   "cell_type": "code",
   "execution_count": null,
   "id": "dc2fb891-1c18-4a84-8c7d-f1f2465d24fc",
   "metadata": {},
   "outputs": [],
   "source": [
    "#| hide\n",
    "test_eq(len(deck), 32)"
   ]
  },
  {
   "cell_type": "code",
   "execution_count": null,
   "id": "0ffbde76-4788-441e-adb0-ab9dc89dd0c3",
   "metadata": {},
   "outputs": [
    {
     "data": {
      "text/plain": [
       "J♡"
      ]
     },
     "execution_count": null,
     "metadata": {},
     "output_type": "execute_result"
    }
   ],
   "source": [
    "card = Card(1,1)\n",
    "card"
   ]
  },
  {
   "cell_type": "markdown",
   "id": "da1575ee-41e1-407f-bed3-94d1d4e74330",
   "metadata": {},
   "source": [
    "We can check if our `Card` is in the `Deck`."
   ]
  },
  {
   "cell_type": "code",
   "execution_count": null,
   "id": "b477aaee-905f-4f65-a433-183ea27b52a0",
   "metadata": {},
   "outputs": [
    {
     "data": {
      "text/plain": [
       "True"
      ]
     },
     "execution_count": null,
     "metadata": {},
     "output_type": "execute_result"
    }
   ],
   "source": [
    "card in deck"
   ]
  },
  {
   "cell_type": "code",
   "execution_count": null,
   "id": "f222645a-68e5-4051-ac29-7555205ed266",
   "metadata": {},
   "outputs": [],
   "source": [
    "#| export\n",
    "@patch\n",
    "def pop(self:Deck, idx=-1):\n",
    "    'Remove and return one card from the deck'\n",
    "    return self.cards.pop(idx)"
   ]
  },
  {
   "cell_type": "markdown",
   "id": "48676492-1256-41d6-8ed8-e1c9f41be348",
   "metadata": {},
   "source": [
    "We can return the card at the last index."
   ]
  },
  {
   "cell_type": "code",
   "execution_count": null,
   "id": "454c145a-1f77-4f3e-8ae9-a3bfe5a94a1f",
   "metadata": {},
   "outputs": [
    {
     "data": {
      "text/plain": [
       "10♧"
      ]
     },
     "execution_count": null,
     "metadata": {},
     "output_type": "execute_result"
    }
   ],
   "source": [
    "deck.pop()"
   ]
  },
  {
   "cell_type": "code",
   "execution_count": null,
   "id": "39bc48a9-43bc-4af7-965b-b2a7b35b957f",
   "metadata": {},
   "outputs": [],
   "source": [
    "#| hide\n",
    "deck = Deck()\n",
    "test_eq(deck.pop(), Card(3,8))"
   ]
  },
  {
   "cell_type": "markdown",
   "id": "1cbfcf9c-8f1f-4ef6-9120-371f61d7c0fc",
   "metadata": {},
   "source": [
    "The deck should now contain only 31 cards."
   ]
  },
  {
   "cell_type": "code",
   "execution_count": null,
   "id": "9a498762-4939-4d83-8181-c86439fb4276",
   "metadata": {},
   "outputs": [
    {
     "data": {
      "text/plain": [
       "31"
      ]
     },
     "execution_count": null,
     "metadata": {},
     "output_type": "execute_result"
    }
   ],
   "source": [
    "len(deck)"
   ]
  },
  {
   "cell_type": "code",
   "execution_count": null,
   "id": "00d7e868-49cf-4eed-815c-01a174db6a42",
   "metadata": {},
   "outputs": [],
   "source": [
    "#| hide\n",
    "test_eq(len(deck),31)"
   ]
  },
  {
   "cell_type": "code",
   "execution_count": null,
   "id": "23b2acf3-191d-4c9d-bca1-b0eb2e5ee6cc",
   "metadata": {},
   "outputs": [],
   "source": [
    "#| export\n",
    "@patch\n",
    "def remove(self:Deck, card:Card):\n",
    "    'Removes `card` from the deck or raises exception if it is not there.'\n",
    "    self.cards.remove(card)"
   ]
  },
  {
   "cell_type": "code",
   "execution_count": null,
   "id": "bfdf645f-7fdb-49cc-9fd7-cb89b17ed5b8",
   "metadata": {},
   "outputs": [
    {
     "data": {
      "text/plain": [
       "J♤; Q♤; K♤; A♤; 7♤; 8♤; 9♤; 10♤; J♡; Q♡; K♡; A♡; 7♡; 8♡; 9♡; 10♡; J♢; Q♢; K♢; A♢; 7♢; 8♢; 9♢; 10♢; J♧; Q♧; K♧; A♧; 7♧; 8♧; 9♧"
      ]
     },
     "execution_count": null,
     "metadata": {},
     "output_type": "execute_result"
    }
   ],
   "source": [
    "deck"
   ]
  },
  {
   "cell_type": "code",
   "execution_count": null,
   "id": "c1aa43fa-5f52-47d2-a634-28151842f108",
   "metadata": {},
   "outputs": [],
   "source": [
    "card = Card(2,3)"
   ]
  },
  {
   "cell_type": "code",
   "execution_count": null,
   "id": "5b8893a7-5450-430a-9361-de9854b6d059",
   "metadata": {},
   "outputs": [],
   "source": [
    "deck.remove(card)"
   ]
  },
  {
   "cell_type": "code",
   "execution_count": null,
   "id": "48db3524-35ee-4b3c-ae7b-2004147388a2",
   "metadata": {},
   "outputs": [
    {
     "data": {
      "text/plain": [
       "False"
      ]
     },
     "execution_count": null,
     "metadata": {},
     "output_type": "execute_result"
    }
   ],
   "source": [
    "card in deck"
   ]
  },
  {
   "cell_type": "code",
   "execution_count": null,
   "id": "dacf6c01-189a-47a6-9159-b27ca1732a00",
   "metadata": {},
   "outputs": [],
   "source": [
    "#| hide\n",
    "assert card not in deck"
   ]
  }
 ],
 "metadata": {
  "kernelspec": {
   "display_name": "python3",
   "language": "python",
   "name": "python3"
  }
 },
 "nbformat": 4,
 "nbformat_minor": 5
}
